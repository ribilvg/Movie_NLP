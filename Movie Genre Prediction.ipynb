{
 "cells": [
  {
   "cell_type": "markdown",
   "id": "679109f4",
   "metadata": {},
   "source": [
    "# Movie Genre Prediction Model"
   ]
  },
  {
   "cell_type": "markdown",
   "id": "9b69033a",
   "metadata": {},
   "source": [
    "## ETL"
   ]
  },
  {
   "cell_type": "markdown",
   "id": "beb4c8e0",
   "metadata": {},
   "source": [
    "### Set up\n",
    "\n",
    "Loading Packages for Web Scraping, Data Wrangling and NLP"
   ]
  },
  {
   "cell_type": "code",
   "execution_count": 1,
   "id": "4fe21b80",
   "metadata": {},
   "outputs": [],
   "source": [
    "import numpy as np\n",
    "import pandas as pd\n",
    "import bs4\n",
    "import requests\n",
    "import time\n",
    "# import string\n",
    "import re\n",
    "\n",
    "import nltk\n",
    "# nltk.download('stopwords')\n",
    "# nltk.download('wordnet')\n",
    "from nltk.corpus import stopwords\n",
    "from nltk.stem import WordNetLemmatizer\n",
    "wl = WordNetLemmatizer()"
   ]
  },
  {
   "cell_type": "markdown",
   "id": "a0ad91c6",
   "metadata": {},
   "source": [
    "### Web Scraping"
   ]
  },
  {
   "cell_type": "markdown",
   "id": "4e61201e",
   "metadata": {},
   "source": [
    "#### Web Scraping 1\n",
    "\n",
    "Scraping Wiki page for list of movies from 1999 - 2005"
   ]
  },
  {
   "cell_type": "code",
   "execution_count": 2,
   "id": "7875c128",
   "metadata": {},
   "outputs": [],
   "source": [
    "# Year form 1999 - 2005\n",
    "year = range(1999,2006)\n",
    "\n",
    "# Empty Data frame to populate super table\n",
    "super_table = pd.DataFrame()\n",
    "for y in year:\n",
    "    # Wikipedia Web Page List of movies for each year\n",
    "    url = \"https://en.wikipedia.org/wiki/List_of_American_films_of_\" + str(y)\n",
    "    # Random sleep time to avoid IP getting blocked\n",
    "    time.sleep(np.random.randint(0, 10, 1)[0])\n",
    "    # Manual Parsing HTML page\n",
    "    request = requests.get(url)\n",
    "    soup = bs4.BeautifulSoup(request.text,'html.parser')\n",
    "    # reading movie list table from the web page for each year\n",
    "    df_sup = pd.read_html(url, attrs = {'class': 'wikitable sortable'},  flavor='bs4', thousands ='.')[0]\n",
    "    # Assigning Year\n",
    "    df_sup['Year'] = y\n",
    "    \n",
    "    # For scraping URLs for each movie page in Wikipedia\n",
    "    rows = soup.find(\"table\", class_='wikitable sortable').tbody.find_all('tr')\n",
    "    link = []\n",
    "    \n",
    "    for row in rows:\n",
    "        cols = row.find_all('td')\n",
    "        if cols != []:\n",
    "            try:\n",
    "                # populating the wikipedia URLs for each movie in the particular Year's movie list table\n",
    "                link.append(\"https://en.wikipedia.org\" + cols[0].find_all('a')[0].get('href')) \n",
    "            except:\n",
    "                link.append(\"error\") \n",
    "        \n",
    "    df_sup[\"url\"] = link\n",
    "    \n",
    "    # Populating the super table by appending each year's table\n",
    "    super_table = super_table.append(df_sup,  ignore_index=True)\n",
    "\n",
    "# Exporting\n",
    "super_table.to_csv(\"super_table_url.csv\")\n",
    "# super_table = pd.read_csv(\"super_table_url.csv\")"
   ]
  },
  {
   "cell_type": "code",
   "execution_count": 3,
   "id": "d424aadf",
   "metadata": {},
   "outputs": [
    {
     "name": "stdout",
     "output_type": "stream",
     "text": [
      "Index(['Unnamed: 0', 'Title', 'Director', 'Cast (Subject of documentary)',\n",
      "       'Genre', 'Notes', 'Year', 'url', 'Cast', 'Cast(Subject of documentary)',\n",
      "       'Opening', 'Opening.1', 'Production company', 'Cast and crew', 'Ref.'],\n",
      "      dtype='object')\n"
     ]
    }
   ],
   "source": [
    "# super_table = pd.read_csv(\"super_table_url.csv\")\n",
    "cols_list = ['Title', 'Director', 'Cast', 'Genre', 'Year', 'url']\n",
    "print(super_table.columns)\n",
    "\n",
    "# Coalescing multiple column with same data into one\n",
    "super_table['Cast'] = (super_table['Cast (Subject of documentary)']\n",
    "                       .combine_first(super_table['Cast'])\n",
    "                       .combine_first(super_table['Cast(Subject of documentary)'])\n",
    "                       .combine_first(super_table['Cast and crew']))\n",
    "\n",
    "# Removing false URLs\n",
    "super_table = super_table[super_table['url'] != \"error\"][cols_list].reset_index()"
   ]
  },
  {
   "cell_type": "markdown",
   "id": "a113ce11",
   "metadata": {},
   "source": [
    "#### Web Scraping 2\n",
    "Scraping each movie's Wikipedia Web Page for its text (paragraph content and storing it in the Text column in the super table. Will take around 4-5 hours to complete the scraping."
   ]
  },
  {
   "cell_type": "code",
   "execution_count": 4,
   "id": "bc845b6d",
   "metadata": {},
   "outputs": [],
   "source": [
    "# For each URL\n",
    "for i in range(len(super_table)):\n",
    "    try:\n",
    "        # Random sleep time\n",
    "        time.sleep(np.random.randint(0, 10, 1)[0])\n",
    "        # Manual Parsing\n",
    "        request_p = requests.get(super_table.loc[i, \"url\"])\n",
    "        soup_p = bs4.BeautifulSoup(request_p.text,'html.parser')\n",
    "        # Scrape the p-tag texts abnd join them together\n",
    "        super_table.loc[i, \"Text\"] = ''.join([x.text for x  in soup_p.find_all(\"p\")])\n",
    "    except:\n",
    "        # In case of error, continue\n",
    "        continue\n"
   ]
  },
  {
   "cell_type": "code",
   "execution_count": 5,
   "id": "c52cb5e8",
   "metadata": {},
   "outputs": [],
   "source": [
    "# Exporting the result\n",
    "super_table.to_csv(\"super_table_text.csv\")\n",
    "# super_table = pd.read_csv(\"super_table_text.csv\")"
   ]
  },
  {
   "cell_type": "markdown",
   "id": "c206b37f",
   "metadata": {},
   "source": [
    "#### Data Wrangling\n",
    "\n",
    "\n",
    "Normalising Genre: First we need to reduce the multiple genre values for a single movie to one. Here most of the first genre in multiple genre use-cases, is Comedy. So we extracting the second value as its Genre."
   ]
  },
  {
   "cell_type": "code",
   "execution_count": 6,
   "id": "f412c18f",
   "metadata": {},
   "outputs": [
    {
     "data": {
      "text/plain": [
       "index         0\n",
       "Unnamed: 0    0\n",
       "Title         0\n",
       "Director      1\n",
       "Cast          8\n",
       "Genre         0\n",
       "Year          0\n",
       "url           0\n",
       "Text          0\n",
       "dtype: int64"
      ]
     },
     "execution_count": 6,
     "metadata": {},
     "output_type": "execute_result"
    }
   ],
   "source": [
    "def genre_extract(gen_list):\n",
    "    if len(gen_list) >= 2:\n",
    "        return gen_list[1]\n",
    "    else:\n",
    "        return gen_list[0]\n",
    "    \n",
    "# Removing Null values \n",
    "super_table_text = super_table[(super_table['Text'].notnull() & super_table['Genre'].notnull())].head(1000).reset_index()\n",
    "\n",
    "# Genre reduction\n",
    "super_table_text['Genre'] = super_table_text['Genre'].str.split(\",\").map(genre_extract)\n",
    "\n",
    "# Null Check\n",
    "super_table_text.isna().sum()\n"
   ]
  },
  {
   "cell_type": "markdown",
   "id": "ad86d86e",
   "metadata": {},
   "source": [
    "Second, we need to map the different Genres to the desired Genre values. For that we manually need to allocate the different Genre values to the desired Genre Categories. This can be subjective."
   ]
  },
  {
   "cell_type": "code",
   "execution_count": 7,
   "id": "1fb651c8",
   "metadata": {},
   "outputs": [
    {
     "name": "stdout",
     "output_type": "stream",
     "text": [
      "{'Horror', 'Others', 'Action', 'Science Fiction', 'Suspense', 'Romance'}\n",
      "index         0\n",
      "Unnamed: 0    0\n",
      "Title         0\n",
      "Director      1\n",
      "Cast          8\n",
      "Genre         0\n",
      "Year          0\n",
      "url           0\n",
      "Text          0\n",
      "dtype: int64\n"
     ]
    }
   ],
   "source": [
    "# set(super_table_text['Genre'])\n",
    "\n",
    "# Desired Genre Categories\n",
    "genres = ['Romance','Action','Suspense','Horror','Science Fiction','Others']\n",
    "\n",
    "# Mapping Genres - Desired Genres as keys and the dataset genres in a list as values.\n",
    "gen_dict ={'Action': [' Adventure', ' War', 'Action', 'Action Comedy', 'Action comedy', 'Adventure', \n",
    "                      'Spy action', 'Superhero', 'Superhero Comedy', 'War', 'War drama'],\n",
    "           'Horror': [' Horror', ' horror', 'Horror', 'Horror Comedy', 'Horror comedy'],\n",
    "           'Romance': [' Romance', 'Rom com', 'Romance', 'Romantic Comedy', 'Romantic comedy', 'Romantic drama'],\n",
    "           'Science Fiction': [' Science Fiction', ' Science fiction', ' sci-fi', 'Science fiction', \n",
    "                               'Science fiction Thriller', 'Science-fiction'],\n",
    "           'Suspense': [' Crime', ' Sport', ' Sports', ' Thriller', ' crime', ' thriller', 'Crime', \n",
    "                        'Crime Comedy', 'Crime comedy', 'Crime drama', 'Suspense', 'Thriller']}\n",
    "\n",
    "# 'Others': [' Animated', ' Animation', ' Biography', ' Biopic', ' Comedy', ' Drama',' Experimental',\n",
    "#           ' Family', ' Fantasy', ' Musical', ' Mystery', ' Western', ' drama', ' family', ' musical',\n",
    "#           'Animated', 'Animation', 'Animation Comedy Family', 'Biography', 'Biopic', \"Children's film\",\n",
    "#           'Comedy', 'Comedy-Drama', 'Documentary', 'Drama', 'Family', 'Fantasy', 'Historical Drama',\n",
    "#           'Historical drama', 'Independent', 'Mockumentary', 'Musical', 'Musical comedy', 'Musical drama',\n",
    "#           'Parody', 'Performance Film', 'Reality', 'Rockumentary', 'Satire', 'Shakespearean', 'Space opera',\n",
    "#           'Teen comedy', 'Western', 'fantasy', 'parody']\n",
    "\n",
    "\n",
    "for i in range(1000):\n",
    "    flag = 0\n",
    "    for key, val in gen_dict.items():\n",
    "        # If the Genre value belongs to the value list in the Genre dictionary, assign the key as its Genre.\n",
    "        if super_table_text.loc[i, 'Genre'] in val:\n",
    "            super_table_text.loc[i, 'Genre'] = key\n",
    "            flag = 1\n",
    "            break\n",
    "    if flag == 0:\n",
    "        super_table_text.loc[i, 'Genre'] = 'Others'\n",
    "            \n",
    "# Distinct check\n",
    "print(set(super_table_text['Genre']))\n",
    "# Null Check\n",
    "print(super_table_text.isna().sum())\n",
    "            "
   ]
  },
  {
   "cell_type": "markdown",
   "id": "31c803ac",
   "metadata": {},
   "source": [
    "### Visualisation"
   ]
  },
  {
   "cell_type": "code",
   "execution_count": 8,
   "id": "6b0ec363",
   "metadata": {},
   "outputs": [
    {
     "name": "stdout",
     "output_type": "stream",
     "text": [
      "                 Title\n",
      "Genre                 \n",
      "Action              78\n",
      "Horror              64\n",
      "Others             618\n",
      "Romance             57\n",
      "Science Fiction     48\n",
      "Suspense           135\n"
     ]
    },
    {
     "data": {
      "image/png": "[encoded data removed]",
      "text/plain": [
       "<Figure size 720x576 with 1 Axes>"
      ]
     },
     "metadata": {
      "needs_background": "light"
     },
     "output_type": "display_data"
    }
   ],
   "source": [
    "import matplotlib.pyplot as plt\n",
    "import seaborn as sns\n",
    "%matplotlib inline\n",
    "\n",
    "# Count of Movies in each Genres\n",
    "print(super_table_text[['Title','Genre']].groupby('Genre').count())\n",
    "\n",
    "# Visualising the Count\n",
    "plt.figure(figsize=(10, 8))\n",
    "sns.countplot(y = 'Genre', data = super_table_text, order = super_table_text['Genre'].value_counts().index)\n",
    "plt.title('Number of Movies per Genre')\n",
    "plt.ylabel('Genre')\n",
    "plt.show()"
   ]
  },
  {
   "cell_type": "code",
   "execution_count": 9,
   "id": "19b7a690",
   "metadata": {},
   "outputs": [],
   "source": [
    "# The Data is unevenly biased towards the 'Others' Genre. So inorder to normalise we have to reduce the 'Others' Genres data.\n",
    "super_table_norm = (super_table_text[(super_table_text['Genre'] != 'Others') & (super_table_text['Genre'] != 'Suspense')]\n",
    "                    .append(super_table_text[super_table_text['Genre'] == 'Others']\n",
    "                            .reset_index()\n",
    "                            .sample(n = 70))\n",
    "                   .append(super_table_text[super_table_text['Genre'] == 'Suspense']\n",
    "                            .reset_index()\n",
    "                            .sample(n = 70)))\n",
    "\n",
    "cols_list = ['Title', 'Director', 'Cast', 'Genre', 'Year', 'url']\n",
    "cols_list.extend(['Text'])\n",
    "super_table_norm = super_table_norm[cols_list].reset_index()\n"
   ]
  },
  {
   "cell_type": "code",
   "execution_count": 10,
   "id": "63f4d151",
   "metadata": {},
   "outputs": [
    {
     "name": "stdout",
     "output_type": "stream",
     "text": [
      "                 Title\n",
      "Genre                 \n",
      "Action              78\n",
      "Horror              64\n",
      "Others              70\n",
      "Romance             57\n",
      "Science Fiction     48\n",
      "Suspense            70\n"
     ]
    },
    {
     "data": {
      "image/png": "[encoded data removed]",
      "text/plain": [
       "<Figure size 720x576 with 1 Axes>"
      ]
     },
     "metadata": {
      "needs_background": "light"
     },
     "output_type": "display_data"
    }
   ],
   "source": [
    "# Count of Movies in each Genres\n",
    "print(super_table_norm[['Title','Genre']].groupby('Genre').count())\n",
    "\n",
    "# Visualising the Count\n",
    "plt.figure(figsize=(10, 8))\n",
    "sns.countplot(y = 'Genre', data = super_table_norm, order = super_table_norm['Genre'].value_counts().index)\n",
    "plt.title('Number of Movies per Genre')\n",
    "plt.ylabel('Genre')\n",
    "plt.show()"
   ]
  },
  {
   "cell_type": "markdown",
   "id": "89f65ef3",
   "metadata": {},
   "source": [
    "## NLP Modelling\n",
    "\n",
    "First we need to clean the text by removing the stopwords, unnecessary characters and short words, tokenise, lemmatise, etc."
   ]
  },
  {
   "cell_type": "code",
   "execution_count": 11,
   "id": "0e77a6e2",
   "metadata": {},
   "outputs": [],
   "source": [
    "# Assigning English Stopwords\n",
    "stopwords1 = set(stopwords.words('English'))\n",
    "\n",
    "# Defining Text analyser\n",
    "def text_process(mess):\n",
    "    # Convert to Lower case\n",
    "    mess = mess.lower()\n",
    "    # Replace non alphabets by spaces\n",
    "    tokens = re.sub('[^a-zA-Z]', ' ',mess)\n",
    "    # Tokenising\n",
    "    tokens = tokens.split()\n",
    "    # Taking only words with 4 or more letters\n",
    "    tokens = [t for t in tokens if len(t) > 3]\n",
    "    # Lemmatizing\n",
    "    tokens = [wl.lemmatize(t) for t in tokens]\n",
    "    # Return as list\n",
    "    return [word for word in tokens if word not in stopwords1]"
   ]
  },
  {
   "cell_type": "code",
   "execution_count": 12,
   "id": "141bcc77",
   "metadata": {},
   "outputs": [],
   "source": [
    "# Importing pAckages for Modelling\n",
    "from sklearn.feature_extraction.text import CountVectorizer\n",
    "from sklearn.feature_extraction.text import TfidfTransformer\n",
    "from sklearn.linear_model import LogisticRegression\n",
    "from sklearn.ensemble import RandomForestClassifier\n",
    "from sklearn.pipeline import Pipeline\n",
    "from sklearn.model_selection import train_test_split\n",
    "from sklearn.metrics import classification_report, confusion_matrix, accuracy_score\n",
    "\n",
    "# split into train-test datasets\n",
    "X_train, X_test, y_train, y_test = train_test_split(super_table_norm['Text'], super_table_norm['Genre'], test_size=0.25)\n"
   ]
  },
  {
   "cell_type": "code",
   "execution_count": 13,
   "id": "9a2c1349",
   "metadata": {},
   "outputs": [
    {
     "data": {
      "text/plain": [
       "27     Just a Little Harmless Sex is a 1999 American ...\n",
       "147    Sweet November is a 2001 American romantic dra...\n",
       "327    The In Crowd is a 2000 American teen thriller ...\n",
       "262    \\nThe Golden Bowl is a 2000 period romantic dr...\n",
       "296    \\n\\nHoles is a 2003 American neo-Western comed...\n",
       "                             ...                        \n",
       "72     \\nCrouching Tiger, Hidden Dragon (simplified C...\n",
       "169    Cypher (also known as Brainstorm and Company M...\n",
       "209    \\nThe Transporter (French: Le Transporteur) is...\n",
       "256    Psycho Beach Party is a 2000 comedy horror fil...\n",
       "253    Afro-Punk (2003) is a 66-minute documentary fi...\n",
       "Name: Text, Length: 290, dtype: object"
      ]
     },
     "execution_count": 13,
     "metadata": {},
     "output_type": "execute_result"
    }
   ],
   "source": [
    "X_train"
   ]
  },
  {
   "cell_type": "markdown",
   "id": "f66b8bcc",
   "metadata": {},
   "source": [
    "### Logistic Regression"
   ]
  },
  {
   "cell_type": "code",
   "execution_count": 14,
   "id": "0064ba0a",
   "metadata": {},
   "outputs": [
    {
     "data": {
      "text/plain": [
       "Pipeline(steps=[('bow_text',\n",
       "                 CountVectorizer(analyzer=<function text_process at 0x00000295A04AC5E0>)),\n",
       "                ('tfidf_text', TfidfTransformer()),\n",
       "                ('model', LogisticRegression())])"
      ]
     },
     "execution_count": 14,
     "metadata": {},
     "output_type": "execute_result"
    }
   ],
   "source": [
    "# Pipelining the model\n",
    "pipeline_lr = Pipeline([\n",
    "    # Bag of Words Vectorizing\n",
    "    ('bow_text', CountVectorizer(analyzer=text_process)),  \n",
    "    # TF-IDF for relevance of words in each Document\n",
    "    ('tfidf_text', TfidfTransformer()),\n",
    "    # Logistic Regression Classification Model\n",
    "    ('model', LogisticRegression()),\n",
    "])\n",
    "\n",
    "# Fitting the model\n",
    "pipeline_lr.fit(X_train, y_train)"
   ]
  },
  {
   "cell_type": "code",
   "execution_count": 15,
   "id": "bd6d244a",
   "metadata": {},
   "outputs": [
    {
     "name": "stdout",
     "output_type": "stream",
     "text": [
      "                 precision    recall  f1-score   support\n",
      "\n",
      "         Action       0.48      0.70      0.57        23\n",
      "         Horror       0.69      0.53      0.60        17\n",
      "         Others       0.43      0.67      0.52        18\n",
      "        Romance       0.57      0.33      0.42        12\n",
      "Science Fiction       1.00      0.33      0.50         9\n",
      "       Suspense       0.54      0.39      0.45        18\n",
      "\n",
      "       accuracy                           0.53        97\n",
      "      macro avg       0.62      0.49      0.51        97\n",
      "   weighted avg       0.58      0.53      0.52        97\n",
      "\n",
      "[[16  0  4  0  0  3]\n",
      " [ 2  9  3  0  0  3]\n",
      " [ 3  1 12  2  0  0]\n",
      " [ 1  0  7  4  0  0]\n",
      " [ 4  2  0  0  3  0]\n",
      " [ 7  1  2  1  0  7]]\n",
      "Accuracy of Logistic Regression Model :  0.5257731958762887\n"
     ]
    }
   ],
   "source": [
    "# Preiction\n",
    "y_pred_lr = pipeline_lr.predict(X_test)\n",
    "\n",
    "# Classification Report\n",
    "print(classification_report(y_test, y_pred_lr))\n",
    "# Confusion Metrics\n",
    "cm_lr = confusion_matrix(y_test, y_pred_lr)\n",
    "print(cm_lr)\n",
    "# Accuracy\n",
    "print(\"Accuracy of Logistic Regression Model : \", accuracy_score(y_test, y_pred_lr))"
   ]
  },
  {
   "cell_type": "markdown",
   "id": "9e9c7cce",
   "metadata": {},
   "source": [
    "### Random Forest"
   ]
  },
  {
   "cell_type": "code",
   "execution_count": 16,
   "id": "c7941763",
   "metadata": {},
   "outputs": [
    {
     "data": {
      "text/plain": [
       "Pipeline(steps=[('bow_text',\n",
       "                 CountVectorizer(analyzer=<function text_process at 0x00000295A04AC5E0>)),\n",
       "                ('tfidf_text', TfidfTransformer()),\n",
       "                ('model', RandomForestClassifier())])"
      ]
     },
     "execution_count": 16,
     "metadata": {},
     "output_type": "execute_result"
    }
   ],
   "source": [
    "# Pipelining the model\n",
    "pipeline_rf = Pipeline([\n",
    "    # Bag of Words Vectorizing\n",
    "    ('bow_text', CountVectorizer(analyzer=text_process)),  \n",
    "    # TF-IDF for relevance of words in each Document\n",
    "    ('tfidf_text', TfidfTransformer()),\n",
    "    # Random Forest Classification Model\n",
    "    ('model', RandomForestClassifier()),\n",
    "])\n",
    "\n",
    "# Fitting the model\n",
    "pipeline_rf.fit(X_train,y_train)"
   ]
  },
  {
   "cell_type": "code",
   "execution_count": 17,
   "id": "47f9f225",
   "metadata": {},
   "outputs": [
    {
     "name": "stdout",
     "output_type": "stream",
     "text": [
      "                 precision    recall  f1-score   support\n",
      "\n",
      "         Action       0.42      0.43      0.43        23\n",
      "         Horror       0.82      0.53      0.64        17\n",
      "         Others       0.32      0.33      0.32        18\n",
      "        Romance       0.59      0.83      0.69        12\n",
      "Science Fiction       0.60      0.67      0.63         9\n",
      "       Suspense       0.44      0.39      0.41        18\n",
      "\n",
      "       accuracy                           0.49        97\n",
      "      macro avg       0.53      0.53      0.52        97\n",
      "   weighted avg       0.51      0.49      0.49        97\n",
      "\n",
      "[[10  1  5  0  2  5]\n",
      " [ 2  9  2  0  1  3]\n",
      " [ 4  0  6  7  0  1]\n",
      " [ 1  0  1 10  0  0]\n",
      " [ 3  0  0  0  6  0]\n",
      " [ 4  1  5  0  1  7]]\n",
      "Accuracy of Random Forest Model :  0.4948453608247423\n"
     ]
    }
   ],
   "source": [
    "# Prediciton\n",
    "y_pred_rf = pipeline_rf.predict(X_test)\n",
    "# classification report\n",
    "print (classification_report(y_test, y_pred_rf))\n",
    "# confusion matrix\n",
    "cm_rf = confusion_matrix(y_test, y_pred_rf)\n",
    "print (cm_rf)\n",
    "# Accuracy\n",
    "print(\"Accuracy of Random Forest Model : \", accuracy_score(y_test, y_pred_rf))"
   ]
  },
  {
   "cell_type": "markdown",
   "id": "f760d9cf",
   "metadata": {},
   "source": [
    "Both models are not performing good, though Random forest performs a little better. May be it's because of the data, the text we parsed from Wiki pages. We have parsed all texts from the pages. Instead if we scrape only the Introduction and the Plot, it might perform well along with some cross-validation."
   ]
  },
  {
   "cell_type": "code",
   "execution_count": null,
   "id": "0c1e4258",
   "metadata": {},
   "outputs": [],
   "source": []
  }
 ],
 "metadata": {
  "kernelspec": {
   "display_name": "Python 3 (ipykernel)",
   "language": "python",
   "name": "python3"
  },
  "language_info": {
   "codemirror_mode": {
    "name": "ipython",
    "version": 3
   },
   "file_extension": ".py",
   "mimetype": "text/x-python",
   "name": "python",
   "nbconvert_exporter": "python",
   "pygments_lexer": "ipython3",
   "version": "3.8.11"
  }
 },
 "nbformat": 4,
 "nbformat_minor": 5
}
